{
 "cells": [
  {
   "cell_type": "code",
   "execution_count": null,
   "id": "a5ba669f-5c15-482f-acf3-fd5863b6f752",
   "metadata": {},
   "outputs": [],
   "source": [
    "# conda install -c anaconda numpy\n",
    "import numpy as np\n",
    "\n",
    "# conda install -c conda-forge matplotlib-base\n",
    "import matplotlib as mpl\n",
    "%matplotlib inline\n",
    "import matplotlib.pyplot as plt"
   ]
  },
  {
   "cell_type": "code",
   "execution_count": null,
   "id": "06af05b4-d13c-4f69-aeba-193aaf2d288c",
   "metadata": {},
   "outputs": [],
   "source": [
    "df_title = pd.read_csv('/opt/app/imdb/title.basics.tsv',sep=\"\\t\",low_memory=False)\n",
    "df_movie = df_title.loc[df_title['titleType']=='movie',:]\n",
    "dff = df_movie.loc[:,[\"tconst\",\"originalTitle\",\"startYear\"]].reset_index(drop=True)\n",
    "dff.to_csv(\"tconst_list_02.csv\")\n"
   ]
  }
 ],
 "metadata": {
  "kernelspec": {
   "display_name": "Python 3 (ipykernel)",
   "language": "python",
   "name": "python3"
  },
  "language_info": {
   "codemirror_mode": {
    "name": "ipython",
    "version": 3
   },
   "file_extension": ".py",
   "mimetype": "text/x-python",
   "name": "python",
   "nbconvert_exporter": "python",
   "pygments_lexer": "ipython3",
   "version": "3.9.12"
  }
 },
 "nbformat": 4,
 "nbformat_minor": 5
}
