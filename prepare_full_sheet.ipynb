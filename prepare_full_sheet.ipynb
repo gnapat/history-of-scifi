{
 "cells": [
  {
   "cell_type": "code",
   "execution_count": null,
   "id": "7718d911-250a-49e2-80b9-123cea025d6b",
   "metadata": {},
   "outputs": [],
   "source": [
    "# conda install -c anaconda numpy\n",
    "import numpy as np\n",
    "\n",
    "# conda install -c conda-forge matplotlib-base\n",
    "import matplotlib as mpl\n",
    "%matplotlib inline\n",
    "import matplotlib.pyplot as plt"
   ]
  },
  {
   "cell_type": "code",
   "execution_count": null,
   "id": "092c0474-898f-4461-aa1f-2b4d3e660b5c",
   "metadata": {},
   "outputs": [],
   "source": [
    "df_title = pd.read_csv('/opt/app/imdb/title.basics.tsv',sep=\"\\t\",low_memory=False)\n",
    "df_movie = df_title.loc[df_title['titleType']=='movie',:]\n",
    "\n",
    "df_rating = pd.read_csv('/opt/app/imdb/title.ratings.tsv',sep=\"\\t\",low_memory=False)\n",
    "df_full = pd.merge(df_movie,df_rating, how='inner', left_on = 'tconst', right_on = 'tconst')\n",
    "df_full[\"startYear\"] = df_full[\"startYear\"].replace([\"\\\\N\"],\"1400\")\n",
    "\n",
    "df_meme = pd.read_csv('/opt/app/imdb/the4.csv',sep=\"|\",low_memory=False)\n",
    "df_meme = df_meme.astype({\"score_match\":\"float\",\"lifetime_gross\":\"int\"})\n",
    "\n",
    "list_org = df_meme[\"originalTitle\"].unique().tolist()\n",
    "\n",
    "len(list_org)\n",
    "\n",
    "#dfff =pd.DataFrame(data)\n",
    "cc=0\n",
    "\n",
    "for i in list_org:\n",
    "    df2 = df_meme.loc[df_meme[\"originalTitle\"] == i,:] \\\n",
    "                    .sort_values(by=['score_match'], ascending=False)[['tconst','lifetime_gross']].iloc[0]\n",
    "    if cc == 0:\n",
    "        dfff =pd.DataFrame(df2)\n",
    "    else:\n",
    "        #df2\n",
    "        dfff = pd.concat([dfff, df2],axis=1)\n",
    "    \n",
    "    cc += 1\n",
    "    #print(df2)\n",
    "df_gross=dfff.T\n",
    "\n",
    "\n",
    "df_full_all = pd.merge(df_full,df_gross.loc[df_meme['tconst'] != \"0\",:], how='inner', left_on = 'tconst', right_on = 'tconst') \\\n",
    "                    .astype({\"startYear\":\"int\",\"averageRating\":\"float\",\"numVotes\":\"int\",\"lifetime_gross\":\"int\"})\n",
    "\n",
    "\n",
    "df_full_all.to_csv(\"full_all_sheet1.csv\")"
   ]
  }
 ],
 "metadata": {
  "kernelspec": {
   "display_name": "Python 3 (ipykernel)",
   "language": "python",
   "name": "python3"
  },
  "language_info": {
   "codemirror_mode": {
    "name": "ipython",
    "version": 3
   },
   "file_extension": ".py",
   "mimetype": "text/x-python",
   "name": "python",
   "nbconvert_exporter": "python",
   "pygments_lexer": "ipython3",
   "version": "3.9.12"
  }
 },
 "nbformat": 4,
 "nbformat_minor": 5
}
